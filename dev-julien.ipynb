{
 "cells": [
  {
   "cell_type": "code",
   "execution_count": 1,
   "metadata": {},
   "outputs": [],
   "source": [
    "import jtnn\n",
    "import jtnn.utils as utils\n",
    "from jtnn.metrics import get_closest_molecules_ged, external_diversity, internal_diversity\n",
    "import rdkit.Chem as Chem\n",
    "\n",
    "from matplotlib.pyplot import imshow\n",
    "import numpy as np\n",
    "from PIL import Image"
   ]
  },
  {
   "cell_type": "markdown",
   "metadata": {},
   "source": [
    "Open the train file and load all the molecules"
   ]
  },
  {
   "cell_type": "code",
   "execution_count": 2,
   "metadata": {},
   "outputs": [],
   "source": [
    "train_limit = None\n",
    "train_set = utils.load_smiles_data(\"data/train.txt\", train_limit)"
   ]
  },
  {
   "cell_type": "markdown",
   "metadata": {},
   "source": [
    "Open the generated file and load all the molecules"
   ]
  },
  {
   "cell_type": "code",
   "execution_count": 3,
   "metadata": {},
   "outputs": [],
   "source": [
    "generated_limit = None\n",
    "generated_beta0_001 = utils.load_smiles_data(\"data/samples_MPNVAE-h450-L56-d3-beta0.001.txt\", generated_limit)\n",
    "generated_beta0_005 = utils.load_smiles_data(\"data/samples_MPNVAE-h450-L56-d3-beta0.005.txt\", generated_limit)\n",
    "generated_noKL = utils.load_smiles_data(\"data/samples_MPNVAE-h450-L56-d3-noKL.txt\", generated_limit)"
   ]
  },
  {
   "cell_type": "markdown",
   "metadata": {},
   "source": [
    "Find the closest molecules of the generated molecule based on the graph edit distance"
   ]
  },
  {
   "cell_type": "code",
   "execution_count": null,
   "metadata": {},
   "outputs": [],
   "source": [
    "generated_mol = generated_beta0_001[0]\n",
    "batch_size = 1000\n",
    "top = 10\n",
    "closest_molecules = get_closest_molecules_ged(batch_size, train_set, generated_mol, top)\n",
    "print(closest_molecules)"
   ]
  },
  {
   "cell_type": "markdown",
   "metadata": {},
   "source": [
    "Write the top closest molecules to a file"
   ]
  },
  {
   "cell_type": "code",
   "execution_count": null,
   "metadata": {},
   "outputs": [],
   "source": [
    "with open('data/ged.txt', 'w') as f:\n",
    "    f.write(\"{0:.2f} {1} \\n\".format(0, generated_mol))\n",
    "    for mol in closest_molecules:\n",
    "        f.write(\"{0:.2f} {1}\\n\".format(mol[0], mol[1]))"
   ]
  },
  {
   "cell_type": "markdown",
   "metadata": {},
   "source": [
    "Draw the molecules images"
   ]
  },
  {
   "cell_type": "code",
   "execution_count": null,
   "metadata": {},
   "outputs": [],
   "source": [
    "mols = [jtnn.chemutils.get_mol(generated_mol)]\n",
    "\n",
    "\n",
    "for _, smiles in closest_molecules:\n",
    "    mols.append(jtnn.chemutils.get_mol(smiles))\n",
    "\n",
    "images = Chem.Draw.MolsToImage(mols)\n",
    "images.save('closest_molecules.png')"
   ]
  },
  {
   "cell_type": "markdown",
   "metadata": {},
   "source": [
    "![Closest molecules](closest_molecules.png)"
   ]
  },
  {
   "cell_type": "markdown",
   "metadata": {},
   "source": [
    "Internal Chemical Diversity in model MPNVAE-h450-L56-d3-beta0.001"
   ]
  },
  {
   "cell_type": "code",
   "execution_count": 4,
   "metadata": {},
   "outputs": [
    {
     "name": "stdout",
     "output_type": "stream",
     "text": [
      "0\n",
      "Internal diversity: 0.6530\n"
     ]
    }
   ],
   "source": [
    "print(\"Internal diversity: {0:.4f}\".format(internal_diversity(generated_beta0_001)))"
   ]
  },
  {
   "cell_type": "markdown",
   "metadata": {},
   "source": [
    "Internal Chemical Diversity in model MPNVAE-h450-L56-d3-beta0.005"
   ]
  },
  {
   "cell_type": "code",
   "execution_count": 5,
   "metadata": {},
   "outputs": [
    {
     "name": "stdout",
     "output_type": "stream",
     "text": [
      "0\n",
      "Internal diversity: 0.6607\n"
     ]
    }
   ],
   "source": [
    "print(\"Internal diversity: {0:.4f}\".format(internal_diversity(generated_beta0_005)))"
   ]
  },
  {
   "cell_type": "markdown",
   "metadata": {},
   "source": [
    "Internal Chemical Diversity in model MPNVAE-h450-L56-d3-noKL"
   ]
  },
  {
   "cell_type": "code",
   "execution_count": 6,
   "metadata": {},
   "outputs": [
    {
     "name": "stdout",
     "output_type": "stream",
     "text": [
      "0\n",
      "Internal diversity: 0.7377\n"
     ]
    }
   ],
   "source": [
    "print(\"Internal diversity: {0:.4f}\".format(internal_diversity(generated_noKL)))"
   ]
  },
  {
   "cell_type": "markdown",
   "metadata": {},
   "source": [
    "External Chemical Diversity between train set and model MPNVAE-h450-L56-d3-beta0.001 "
   ]
  },
  {
   "cell_type": "code",
   "execution_count": 7,
   "metadata": {},
   "outputs": [
    {
     "name": "stdout",
     "output_type": "stream",
     "text": [
      "0\n",
      "10000\n",
      "20000\n",
      "30000\n",
      "40000\n",
      "50000\n",
      "60000\n",
      "70000\n",
      "80000\n",
      "90000\n",
      "100000\n",
      "110000\n",
      "120000\n",
      "130000\n",
      "140000\n",
      "150000\n",
      "160000\n",
      "170000\n",
      "180000\n",
      "190000\n",
      "200000\n",
      "210000\n",
      "220000\n",
      "External diversity: 0.6558\n"
     ]
    }
   ],
   "source": [
    "print(\"External diversity: {0:.4f}\".format(external_diversity(train_set, generated_beta0_001)))"
   ]
  },
  {
   "cell_type": "markdown",
   "metadata": {},
   "source": [
    "External Chemical Diversity between train set and model MPNVAE-h450-L56-d3-beta0.005"
   ]
  },
  {
   "cell_type": "code",
   "execution_count": 8,
   "metadata": {},
   "outputs": [
    {
     "name": "stdout",
     "output_type": "stream",
     "text": [
      "0\n",
      "10000\n",
      "20000\n",
      "30000\n",
      "40000\n",
      "50000\n",
      "60000\n",
      "70000\n",
      "80000\n",
      "90000\n",
      "100000\n",
      "110000\n",
      "120000\n",
      "130000\n",
      "140000\n",
      "150000\n",
      "160000\n",
      "170000\n",
      "180000\n",
      "190000\n",
      "200000\n",
      "210000\n",
      "220000\n",
      "External diversity: 0.6591\n"
     ]
    }
   ],
   "source": [
    "print(\"External diversity: {0:.4f}\".format(external_diversity(train_set, generated_beta0_005)))"
   ]
  },
  {
   "cell_type": "markdown",
   "metadata": {},
   "source": [
    "External Chemical Diversity between train set and model MPNVAE-h450-L56-d3-beta-noKL"
   ]
  },
  {
   "cell_type": "code",
   "execution_count": 9,
   "metadata": {},
   "outputs": [
    {
     "name": "stdout",
     "output_type": "stream",
     "text": [
      "0\n",
      "10000\n",
      "20000\n",
      "30000\n",
      "40000\n",
      "50000\n",
      "60000\n",
      "70000\n",
      "80000\n",
      "90000\n",
      "100000\n",
      "110000\n",
      "120000\n",
      "130000\n",
      "140000\n",
      "150000\n",
      "160000\n",
      "170000\n",
      "180000\n",
      "190000\n",
      "200000\n",
      "210000\n",
      "220000\n",
      "External diversity: 0.6971\n"
     ]
    }
   ],
   "source": [
    "print(\"External diversity: {0:.4f}\".format(external_diversity(train_set, generated_noKL)))"
   ]
  },
  {
   "cell_type": "code",
   "execution_count": null,
   "metadata": {},
   "outputs": [],
   "source": []
  }
 ],
 "metadata": {
  "kernelspec": {
   "display_name": "Python 3",
   "language": "python",
   "name": "python3"
  },
  "language_info": {
   "codemirror_mode": {
    "name": "ipython",
    "version": 3
   },
   "file_extension": ".py",
   "mimetype": "text/x-python",
   "name": "python",
   "nbconvert_exporter": "python",
   "pygments_lexer": "ipython3",
   "version": "3.5.6"
  }
 },
 "nbformat": 4,
 "nbformat_minor": 1
}
